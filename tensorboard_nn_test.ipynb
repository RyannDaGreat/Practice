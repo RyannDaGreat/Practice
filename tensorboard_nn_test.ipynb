{
  "nbformat": 4,
  "nbformat_minor": 0,
  "metadata": {
    "kernelspec": {
      "display_name": "Python 3",
      "language": "python",
      "name": "python3"
    },
    "language_info": {
      "codemirror_mode": {
        "name": "ipython",
        "version": 3
      },
      "file_extension": ".py",
      "mimetype": "text/x-python",
      "name": "python",
      "nbconvert_exporter": "python",
      "pygments_lexer": "ipython3",
      "version": "3.7.6"
    },
    "colab": {
      "name": "tensorboard_nn_test.ipynb",
      "provenance": [],
      "include_colab_link": true
    }
  },
  "cells": [
    {
      "cell_type": "markdown",
      "metadata": {
        "id": "view-in-github",
        "colab_type": "text"
      },
      "source": [
        "<a href=\"https://colab.research.google.com/github/RyannDaGreat/Practice/blob/master/tensorboard_nn_test.ipynb\" target=\"_parent\"><img src=\"https://colab.research.google.com/assets/colab-badge.svg\" alt=\"Open In Colab\"/></a>"
      ]
    },
    {
      "cell_type": "markdown",
      "metadata": {
        "id": "YpdDTfJ1PWG9",
        "colab_type": "text"
      },
      "source": [
        "**Ryan Burgert Simple Tensorflow Experiments**"
      ]
    },
    {
      "cell_type": "code",
      "metadata": {
        "id": "XXM6B6W_PWG_",
        "colab_type": "code",
        "colab": {
          "base_uri": "https://localhost:8080/",
          "height": 646
        },
        "outputId": "f64b761d-993a-4202-9d35-10f53bfc5940"
      },
      "source": [
        "#Install my libraries\n",
        "!pip install rp ipyplot"
      ],
      "execution_count": 1,
      "outputs": [
        {
          "output_type": "stream",
          "text": [
            "Collecting rp\n",
            "\u001b[?25l  Downloading https://files.pythonhosted.org/packages/a0/19/dae1942e569615dc5d346b32e87643cc25369e8eafa1a5685567ca45dfda/rp-0.1.498.tar.gz (2.3MB)\n",
            "\u001b[K     |████████████████████████████████| 2.3MB 5.2MB/s \n",
            "\u001b[?25hCollecting ipyplot\n",
            "  Downloading https://files.pythonhosted.org/packages/c8/79/73a14a6d2727555a14c62b9acb97c8f2624d6d878d9964054f2f039f6a7a/ipyplot-1.0.5-py3-none-any.whl\n",
            "Requirement already satisfied: wcwidth in /usr/local/lib/python3.6/dist-packages (from rp) (0.2.5)\n",
            "Requirement already satisfied: pygments in /usr/local/lib/python3.6/dist-packages (from rp) (2.1.3)\n",
            "Requirement already satisfied: six in /usr/local/lib/python3.6/dist-packages (from rp) (1.12.0)\n",
            "Collecting stackprinter\n",
            "  Downloading https://files.pythonhosted.org/packages/84/64/4e613b325887812300160ae6e6a5b3dfe3b49dbd7e2533e11099f28e1de7/stackprinter-0.2.4-py3-none-any.whl\n",
            "Requirement already satisfied: inflect in /usr/local/lib/python3.6/dist-packages (from rp) (2.1.0)\n",
            "Requirement already satisfied: jedi in /usr/local/lib/python3.6/dist-packages (from rp) (0.17.1)\n",
            "Collecting doge\n",
            "  Downloading https://files.pythonhosted.org/packages/f6/01/d4a8f013e4e5c4cc18c8ed1611115a9bcca5e3316f88382e200343f73ff5/doge-3.5.0.tar.gz\n",
            "Requirement already satisfied: pillow in /usr/local/lib/python3.6/dist-packages (from ipyplot) (7.0.0)\n",
            "Requirement already satisfied: numpy in /usr/local/lib/python3.6/dist-packages (from ipyplot) (1.18.5)\n",
            "Requirement already satisfied: IPython in /usr/local/lib/python3.6/dist-packages (from ipyplot) (5.5.0)\n",
            "Requirement already satisfied: parso<0.8.0,>=0.7.0 in /usr/local/lib/python3.6/dist-packages (from jedi->rp) (0.7.0)\n",
            "Requirement already satisfied: prompt-toolkit<2.0.0,>=1.0.4 in /usr/local/lib/python3.6/dist-packages (from IPython->ipyplot) (1.0.18)\n",
            "Requirement already satisfied: simplegeneric>0.8 in /usr/local/lib/python3.6/dist-packages (from IPython->ipyplot) (0.8.1)\n",
            "Requirement already satisfied: setuptools>=18.5 in /usr/local/lib/python3.6/dist-packages (from IPython->ipyplot) (49.1.0)\n",
            "Requirement already satisfied: pickleshare in /usr/local/lib/python3.6/dist-packages (from IPython->ipyplot) (0.7.5)\n",
            "Requirement already satisfied: pexpect; sys_platform != \"win32\" in /usr/local/lib/python3.6/dist-packages (from IPython->ipyplot) (4.8.0)\n",
            "Requirement already satisfied: traitlets>=4.2 in /usr/local/lib/python3.6/dist-packages (from IPython->ipyplot) (4.3.3)\n",
            "Requirement already satisfied: decorator in /usr/local/lib/python3.6/dist-packages (from IPython->ipyplot) (4.4.2)\n",
            "Requirement already satisfied: ptyprocess>=0.5 in /usr/local/lib/python3.6/dist-packages (from pexpect; sys_platform != \"win32\"->IPython->ipyplot) (0.6.0)\n",
            "Requirement already satisfied: ipython-genutils in /usr/local/lib/python3.6/dist-packages (from traitlets>=4.2->IPython->ipyplot) (0.2.0)\n",
            "Building wheels for collected packages: rp, doge\n",
            "  Building wheel for rp (setup.py) ... \u001b[?25l\u001b[?25hdone\n",
            "  Created wheel for rp: filename=rp-0.1.498-cp36-none-any.whl size=1024535 sha256=10a005b9a33e06cfe0f3c241b157fc59032d4c1661fbabbb7590628811285797\n",
            "  Stored in directory: /root/.cache/pip/wheels/d1/84/13/7bbb3a92b393e34d489da4ce7e5e889b9db84129a929d1cc7a\n",
            "  Building wheel for doge (setup.py) ... \u001b[?25l\u001b[?25hdone\n",
            "  Created wheel for doge: filename=doge-3.5.0-cp36-none-any.whl size=16562 sha256=e0e95ec6140938f7562a463a5cce0e200aef6e426dbbaabdeac146cfa51714d7\n",
            "  Stored in directory: /root/.cache/pip/wheels/ba/de/0e/d150087c243f1c5c23d997f7852d99c6faf9f64bac7d23c09b\n",
            "Successfully built rp doge\n",
            "Installing collected packages: stackprinter, doge, rp, ipyplot\n",
            "Successfully installed doge-3.5.0 ipyplot-1.0.5 rp-0.1.498 stackprinter-0.2.4\n"
          ],
          "name": "stdout"
        }
      ]
    },
    {
      "cell_type": "code",
      "metadata": {
        "id": "7UeznEExPWHF",
        "colab_type": "code",
        "colab": {}
      },
      "source": [
        "#Get tensorboard ready\n",
        "%load_ext tensorboard\n",
        "%tensorboard --logdir logs"
      ],
      "execution_count": null,
      "outputs": []
    },
    {
      "cell_type": "code",
      "metadata": {
        "id": "3hr12ZC2PWHJ",
        "colab_type": "code",
        "colab": {}
      },
      "source": [
        "import rp\n",
        "import numpy as np\n",
        "import tensorflow_datasets as tfds\n",
        "import tensorflow as tf\n",
        "import tensorflow.keras as keras\n",
        "(x_train, y_train), (x_test, y_test) = keras.datasets.fashion_mnist.load_data()\n",
        "x_train = np.expand_dims(x_train / 255.0, -1)\n",
        "x_test  = np.expand_dims(x_test  / 255.0, -1)"
      ],
      "execution_count": null,
      "outputs": []
    },
    {
      "cell_type": "code",
      "metadata": {
        "id": "1m4PRPXRPWHN",
        "colab_type": "code",
        "colab": {}
      },
      "source": [
        "#Remove all old tensorboard logs\n",
        "!rm -rf logs"
      ],
      "execution_count": null,
      "outputs": []
    },
    {
      "cell_type": "code",
      "metadata": {
        "id": "_E7k2hXWPWHR",
        "colab_type": "code",
        "colab": {}
      },
      "source": [
        "model = tf.keras.models.Sequential([\n",
        "    tf.keras.layers.Conv2D(filters=50,kernel_size=3),\n",
        "    tf.keras.layers.Flatten(),\n",
        "    tf.keras.layers.Dense(256, activation=tf.keras.activations.relu),\n",
        "    tf.keras.layers.Dropout(0.2),\n",
        "    tf.keras.layers.Dense(10),\n",
        "    tf.keras.layers.Softmax(),\n",
        "])\n",
        "\n",
        "loss = tf.keras.losses.SparseCategoricalCrossentropy()\n",
        "\n",
        "metrics = [tf.keras.metrics.SparseCategoricalAccuracy()]\n",
        "\n",
        "optimizer = tf.keras.optimizers.Adam()\n",
        "\n",
        "model.compile(optimizer, loss, metrics)\n",
        "\n",
        "log_title='Conv'\n",
        "log_path=rp.path_join('logs',log_title+\"___\"+str(rp.get_current_date()).replace(' ','_'))\n",
        "\n",
        "rp.fansi_print(\"Log path: \"+repr(log_path),'green','bold')\n",
        "\n",
        "tensorboard = tf.keras.callbacks.TensorBoard(log_dir=log_path)\n",
        "\n",
        "model.fit(x_train, y_train, epochs=10, batch_size=64, validation_split=.25, callbacks=[tensorboard])\n",
        "\n",
        "rp.fansi_print('Evaluating test data:','green','bold')\n",
        "\n",
        "model.evaluate(x_test,y_test)"
      ],
      "execution_count": null,
      "outputs": []
    },
    {
      "cell_type": "code",
      "metadata": {
        "id": "KMcQAvXzPWHU",
        "colab_type": "code",
        "colab": {}
      },
      "source": [
        "## Visualization of results\n",
        "\n",
        "bins = [[] for _ in range(10)]\n",
        "x_images=x_test[:800]\n",
        "x_labels=model(x_images).numpy().squeeze().argmax(1)\n",
        "x_images=x_images.squeeze()\n",
        "for x_label,x_image in zip(x_labels,x_images):\n",
        "    bins[x_label].append(x_image)\n",
        "for _ in range(10):\n",
        "    bins[_]=rp.horizontally_concatenated_images(rp.cv_text_to_image(str(_),scale=1),*bins[_])\n",
        "visualization=rp.vertically_concatenated_images(bins)\n",
        "\n",
        "rp.display_image(visualization)"
      ],
      "execution_count": null,
      "outputs": []
    }
  ]
}